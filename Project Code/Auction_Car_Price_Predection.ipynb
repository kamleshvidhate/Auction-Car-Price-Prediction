{
  "nbformat": 4,
  "nbformat_minor": 0,
  "metadata": {
    "colab": {
      "name": "Auction_Car_Price_Predection.ipynb",
      "provenance": [],
      "collapsed_sections": []
    },
    "kernelspec": {
      "name": "python3",
      "display_name": "Python 3"
    },
    "language_info": {
      "name": "python"
    }
  },
  "cells": [
    {
      "cell_type": "code",
      "metadata": {
        "id": "VBFhqzFkAUbs",
        "colab": {
          "base_uri": "https://localhost:8080/"
        },
        "outputId": "ab1655fe-80c0-4f3f-ab6d-b0b186deca0c"
      },
      "source": [
        "!ls"
      ],
      "execution_count": null,
      "outputs": [
        {
          "output_type": "stream",
          "name": "stdout",
          "text": [
            "car_prices.csv.zip  sample_data\n"
          ]
        }
      ]
    },
    {
      "cell_type": "code",
      "metadata": {
        "id": "iQRaxUOPBTDi",
        "colab": {
          "base_uri": "https://localhost:8080/"
        },
        "outputId": "a73ea7f5-da97-4a94-89ce-6642b3ace62c"
      },
      "source": [
        "!unzip 'car_prices.csv.zip'"
      ],
      "execution_count": null,
      "outputs": [
        {
          "output_type": "stream",
          "name": "stdout",
          "text": [
            "Archive:  car_prices.csv.zip\n",
            "  inflating: car_prices.csv          \n"
          ]
        }
      ]
    },
    {
      "cell_type": "code",
      "metadata": {
        "id": "8DfQvi_zBZM3",
        "colab": {
          "base_uri": "https://localhost:8080/"
        },
        "outputId": "ee6f4973-1fa3-45dc-f560-f20f15d6c001"
      },
      "source": [
        "import pandas as pd\n",
        "df=pd.read_csv(\"car_prices.csv\",parse_dates=True,error_bad_lines=False,warn_bad_lines=True)"
      ],
      "execution_count": null,
      "outputs": [
        {
          "output_type": "stream",
          "name": "stderr",
          "text": [
            "b'Skipping line 408163: expected 16 fields, saw 17\\nSkipping line 417837: expected 16 fields, saw 17\\nSkipping line 421291: expected 16 fields, saw 17\\nSkipping line 424163: expected 16 fields, saw 17\\n'\n",
            "b'Skipping line 427042: expected 16 fields, saw 17\\nSkipping line 427045: expected 16 fields, saw 17\\nSkipping line 434426: expected 16 fields, saw 17\\nSkipping line 444503: expected 16 fields, saw 17\\nSkipping line 453796: expected 16 fields, saw 17\\n'\n",
            "b'Skipping line 461599: expected 16 fields, saw 17\\nSkipping line 461614: expected 16 fields, saw 17\\n'\n",
            "b'Skipping line 492486: expected 16 fields, saw 17\\nSkipping line 497010: expected 16 fields, saw 17\\nSkipping line 497013: expected 16 fields, saw 17\\nSkipping line 499085: expected 16 fields, saw 17\\nSkipping line 501457: expected 16 fields, saw 17\\nSkipping line 505301: expected 16 fields, saw 17\\nSkipping line 505308: expected 16 fields, saw 17\\nSkipping line 520463: expected 16 fields, saw 17\\n'\n",
            "b'Skipping line 528998: expected 16 fields, saw 17\\nSkipping line 529011: expected 16 fields, saw 17\\nSkipping line 529015: expected 16 fields, saw 17\\nSkipping line 529624: expected 16 fields, saw 17\\nSkipping line 548786: expected 16 fields, saw 17\\nSkipping line 551224: expected 16 fields, saw 17\\nSkipping line 554712: expected 16 fields, saw 17\\n'\n"
          ]
        }
      ]
    },
    {
      "cell_type": "code",
      "metadata": {
        "id": "MUUVmGbaBo4j",
        "colab": {
          "base_uri": "https://localhost:8080/"
        },
        "outputId": "3e10a75b-7818-4ca1-dcd1-7d88aa81af0e"
      },
      "source": [
        "df.shape"
      ],
      "execution_count": null,
      "outputs": [
        {
          "output_type": "execute_result",
          "data": {
            "text/plain": [
              "(558811, 16)"
            ]
          },
          "metadata": {},
          "execution_count": 4
        }
      ]
    },
    {
      "cell_type": "code",
      "metadata": {
        "id": "Z829mzBFCbkd",
        "colab": {
          "base_uri": "https://localhost:8080/"
        },
        "outputId": "b75b5ae5-f7f7-4be9-e921-bebb4ea6024a"
      },
      "source": [
        "df.info()"
      ],
      "execution_count": null,
      "outputs": [
        {
          "output_type": "stream",
          "name": "stdout",
          "text": [
            "<class 'pandas.core.frame.DataFrame'>\n",
            "RangeIndex: 558811 entries, 0 to 558810\n",
            "Data columns (total 16 columns):\n",
            " #   Column        Non-Null Count   Dtype  \n",
            "---  ------        --------------   -----  \n",
            " 0   year          558811 non-null  int64  \n",
            " 1   make          548510 non-null  object \n",
            " 2   model         548412 non-null  object \n",
            " 3   trim          548160 non-null  object \n",
            " 4   body          545616 non-null  object \n",
            " 5   transmission  493458 non-null  object \n",
            " 6   vin           558811 non-null  object \n",
            " 7   state         558811 non-null  object \n",
            " 8   condition     547017 non-null  float64\n",
            " 9   odometer      558717 non-null  float64\n",
            " 10  color         558062 non-null  object \n",
            " 11  interior      558062 non-null  object \n",
            " 12  seller        558811 non-null  object \n",
            " 13  mmr           558811 non-null  int64  \n",
            " 14  sellingprice  558811 non-null  int64  \n",
            " 15  saledate      558811 non-null  object \n",
            "dtypes: float64(2), int64(3), object(11)\n",
            "memory usage: 68.2+ MB\n"
          ]
        }
      ]
    },
    {
      "cell_type": "markdown",
      "metadata": {
        "id": "MSSCtOv8TFhr"
      },
      "source": [
        "## To  Rename the columns"
      ]
    },
    {
      "cell_type": "code",
      "metadata": {
        "id": "yVAMyWXKSZ_1"
      },
      "source": [
        "df = df.rename(columns={\"year\": \"Year\", \"make\": \"Brand\",\"model\":\"Model\",\"trim\": \"Version\", \"transmission\": \"Transmission\", \"body\": \"Type\",\"state\": \"Place\",\n",
        "                        \"condition\": \"Condition\", \"odometer\": \"Odometer\",\"color\":\"Colour\",\"interior\":\"Interior\",\"seller\":\"Seller\",\n",
        "                       \"sellingprice\":\"Price\",\"saledate\":\"SaleDate\"})\n"
      ],
      "execution_count": null,
      "outputs": []
    },
    {
      "cell_type": "markdown",
      "metadata": {
        "id": "j-Ty21p6eNi3"
      },
      "source": [
        "##vin: Vehicle identification number ,so we drop vin from dataframe"
      ]
    },
    {
      "cell_type": "code",
      "metadata": {
        "id": "Mb0SdM9yeMSa"
      },
      "source": [
        "df.drop('vin',axis=1,inplace=True)"
      ],
      "execution_count": null,
      "outputs": []
    },
    {
      "cell_type": "markdown",
      "metadata": {
        "id": "U6z6M1NbSmuk"
      },
      "source": [
        "## Sometimes Data may have duplicate Rows. Here I checked the number of Duplicate rows, but there was no duplicate rows."
      ]
    },
    {
      "cell_type": "code",
      "metadata": {
        "colab": {
          "base_uri": "https://localhost:8080/"
        },
        "id": "dnKj5hpuSvTM",
        "outputId": "524993af-c9a8-4cf1-99a1-1817ead71f4f"
      },
      "source": [
        "duplicate_rows_df = df[df.duplicated()]\n",
        "print(\"number of duplicate rows: \", duplicate_rows_df.shape)"
      ],
      "execution_count": null,
      "outputs": [
        {
          "output_type": "stream",
          "name": "stdout",
          "text": [
            "number of duplicate rows:  (0, 15)\n"
          ]
        }
      ]
    },
    {
      "cell_type": "markdown",
      "metadata": {
        "id": "COs-s6yCS5lM"
      },
      "source": [
        "## This data contains more null values. I'm displaying the null values in the dataset"
      ]
    },
    {
      "cell_type": "code",
      "metadata": {
        "id": "NyCKsCPBCecR",
        "colab": {
          "base_uri": "https://localhost:8080/"
        },
        "outputId": "44719ab9-7f5a-46f2-d2c2-12dda4dc2ab8"
      },
      "source": [
        "df.isnull().sum()"
      ],
      "execution_count": null,
      "outputs": [
        {
          "output_type": "execute_result",
          "data": {
            "text/plain": [
              "Year                0\n",
              "Brand           10301\n",
              "Model           10399\n",
              "Version         10651\n",
              "Type            13195\n",
              "Transmission    65353\n",
              "Place               0\n",
              "Condition       11794\n",
              "Odometer           94\n",
              "Colour            749\n",
              "Interior          749\n",
              "Seller              0\n",
              "mmr                 0\n",
              "Price               0\n",
              "SaleDate            0\n",
              "dtype: int64"
            ]
          },
          "metadata": {},
          "execution_count": 9
        }
      ]
    },
    {
      "cell_type": "markdown",
      "metadata": {
        "id": "M2GDGWO8TARz"
      },
      "source": [
        "## Here I'm dropping/deleting the null values. Since this is a very large dataset deleting some will not affect the whole data."
      ]
    },
    {
      "cell_type": "code",
      "metadata": {
        "id": "4uAOiLbACsfb",
        "colab": {
          "base_uri": "https://localhost:8080/"
        },
        "outputId": "008d62fe-65eb-4f8b-dd3e-e98fa868ad1f"
      },
      "source": [
        "df=df.dropna()\n",
        "df.count()"
      ],
      "execution_count": null,
      "outputs": [
        {
          "output_type": "execute_result",
          "data": {
            "text/plain": [
              "Year            472336\n",
              "Brand           472336\n",
              "Model           472336\n",
              "Version         472336\n",
              "Type            472336\n",
              "Transmission    472336\n",
              "Place           472336\n",
              "Condition       472336\n",
              "Odometer        472336\n",
              "Colour          472336\n",
              "Interior        472336\n",
              "Seller          472336\n",
              "mmr             472336\n",
              "Price           472336\n",
              "SaleDate        472336\n",
              "dtype: int64"
            ]
          },
          "metadata": {},
          "execution_count": 10
        }
      ]
    },
    {
      "cell_type": "code",
      "metadata": {
        "id": "9xwqxpv8Cyuv",
        "colab": {
          "base_uri": "https://localhost:8080/"
        },
        "outputId": "889cd826-a840-46a1-e236-9732b8232b4a"
      },
      "source": [
        "df.isnull().sum()"
      ],
      "execution_count": null,
      "outputs": [
        {
          "output_type": "execute_result",
          "data": {
            "text/plain": [
              "Year            0\n",
              "Brand           0\n",
              "Model           0\n",
              "Version         0\n",
              "Type            0\n",
              "Transmission    0\n",
              "Place           0\n",
              "Condition       0\n",
              "Odometer        0\n",
              "Colour          0\n",
              "Interior        0\n",
              "Seller          0\n",
              "mmr             0\n",
              "Price           0\n",
              "SaleDate        0\n",
              "dtype: int64"
            ]
          },
          "metadata": {},
          "execution_count": 11
        }
      ]
    },
    {
      "cell_type": "code",
      "metadata": {
        "colab": {
          "base_uri": "https://localhost:8080/",
          "height": 300
        },
        "id": "3HMhwPFfZNjc",
        "outputId": "5df8f3c5-9669-4eda-fe6c-6e5494275a12"
      },
      "source": [
        "df.describe()"
      ],
      "execution_count": null,
      "outputs": [
        {
          "output_type": "execute_result",
          "data": {
            "text/html": [
              "<div>\n",
              "<style scoped>\n",
              "    .dataframe tbody tr th:only-of-type {\n",
              "        vertical-align: middle;\n",
              "    }\n",
              "\n",
              "    .dataframe tbody tr th {\n",
              "        vertical-align: top;\n",
              "    }\n",
              "\n",
              "    .dataframe thead th {\n",
              "        text-align: right;\n",
              "    }\n",
              "</style>\n",
              "<table border=\"1\" class=\"dataframe\">\n",
              "  <thead>\n",
              "    <tr style=\"text-align: right;\">\n",
              "      <th></th>\n",
              "      <th>Year</th>\n",
              "      <th>Condition</th>\n",
              "      <th>Odometer</th>\n",
              "      <th>mmr</th>\n",
              "      <th>Price</th>\n",
              "    </tr>\n",
              "  </thead>\n",
              "  <tbody>\n",
              "    <tr>\n",
              "      <th>count</th>\n",
              "      <td>472336.000000</td>\n",
              "      <td>472336.000000</td>\n",
              "      <td>472336.000000</td>\n",
              "      <td>472336.000000</td>\n",
              "      <td>472336.000000</td>\n",
              "    </tr>\n",
              "    <tr>\n",
              "      <th>mean</th>\n",
              "      <td>2010.211045</td>\n",
              "      <td>3.426576</td>\n",
              "      <td>66701.070003</td>\n",
              "      <td>13836.999773</td>\n",
              "      <td>13690.403670</td>\n",
              "    </tr>\n",
              "    <tr>\n",
              "      <th>std</th>\n",
              "      <td>3.822131</td>\n",
              "      <td>0.943659</td>\n",
              "      <td>51939.183430</td>\n",
              "      <td>9532.131753</td>\n",
              "      <td>9612.962279</td>\n",
              "    </tr>\n",
              "    <tr>\n",
              "      <th>min</th>\n",
              "      <td>1990.000000</td>\n",
              "      <td>1.000000</td>\n",
              "      <td>1.000000</td>\n",
              "      <td>25.000000</td>\n",
              "      <td>1.000000</td>\n",
              "    </tr>\n",
              "    <tr>\n",
              "      <th>25%</th>\n",
              "      <td>2008.000000</td>\n",
              "      <td>2.700000</td>\n",
              "      <td>28137.000000</td>\n",
              "      <td>7425.000000</td>\n",
              "      <td>7200.000000</td>\n",
              "    </tr>\n",
              "    <tr>\n",
              "      <th>50%</th>\n",
              "      <td>2012.000000</td>\n",
              "      <td>3.600000</td>\n",
              "      <td>51084.000000</td>\n",
              "      <td>12300.000000</td>\n",
              "      <td>12200.000000</td>\n",
              "    </tr>\n",
              "    <tr>\n",
              "      <th>75%</th>\n",
              "      <td>2013.000000</td>\n",
              "      <td>4.200000</td>\n",
              "      <td>96589.000000</td>\n",
              "      <td>18300.000000</td>\n",
              "      <td>18200.000000</td>\n",
              "    </tr>\n",
              "    <tr>\n",
              "      <th>max</th>\n",
              "      <td>2015.000000</td>\n",
              "      <td>5.000000</td>\n",
              "      <td>999999.000000</td>\n",
              "      <td>182000.000000</td>\n",
              "      <td>230000.000000</td>\n",
              "    </tr>\n",
              "  </tbody>\n",
              "</table>\n",
              "</div>"
            ],
            "text/plain": [
              "                Year      Condition  ...            mmr          Price\n",
              "count  472336.000000  472336.000000  ...  472336.000000  472336.000000\n",
              "mean     2010.211045       3.426576  ...   13836.999773   13690.403670\n",
              "std         3.822131       0.943659  ...    9532.131753    9612.962279\n",
              "min      1990.000000       1.000000  ...      25.000000       1.000000\n",
              "25%      2008.000000       2.700000  ...    7425.000000    7200.000000\n",
              "50%      2012.000000       3.600000  ...   12300.000000   12200.000000\n",
              "75%      2013.000000       4.200000  ...   18300.000000   18200.000000\n",
              "max      2015.000000       5.000000  ...  182000.000000  230000.000000\n",
              "\n",
              "[8 rows x 5 columns]"
            ]
          },
          "metadata": {},
          "execution_count": 12
        }
      ]
    },
    {
      "cell_type": "code",
      "metadata": {
        "colab": {
          "base_uri": "https://localhost:8080/",
          "height": 206
        },
        "id": "TfO9DyOdZdy_",
        "outputId": "8762c4c8-f921-4ee1-9f29-1e5c49a050e6"
      },
      "source": [
        "df.corr()"
      ],
      "execution_count": null,
      "outputs": [
        {
          "output_type": "execute_result",
          "data": {
            "text/html": [
              "<div>\n",
              "<style scoped>\n",
              "    .dataframe tbody tr th:only-of-type {\n",
              "        vertical-align: middle;\n",
              "    }\n",
              "\n",
              "    .dataframe tbody tr th {\n",
              "        vertical-align: top;\n",
              "    }\n",
              "\n",
              "    .dataframe thead th {\n",
              "        text-align: right;\n",
              "    }\n",
              "</style>\n",
              "<table border=\"1\" class=\"dataframe\">\n",
              "  <thead>\n",
              "    <tr style=\"text-align: right;\">\n",
              "      <th></th>\n",
              "      <th>Year</th>\n",
              "      <th>Condition</th>\n",
              "      <th>Odometer</th>\n",
              "      <th>mmr</th>\n",
              "      <th>Price</th>\n",
              "    </tr>\n",
              "  </thead>\n",
              "  <tbody>\n",
              "    <tr>\n",
              "      <th>Year</th>\n",
              "      <td>1.000000</td>\n",
              "      <td>0.548307</td>\n",
              "      <td>-0.773104</td>\n",
              "      <td>0.588605</td>\n",
              "      <td>0.578918</td>\n",
              "    </tr>\n",
              "    <tr>\n",
              "      <th>Condition</th>\n",
              "      <td>0.548307</td>\n",
              "      <td>1.000000</td>\n",
              "      <td>-0.537544</td>\n",
              "      <td>0.481460</td>\n",
              "      <td>0.535990</td>\n",
              "    </tr>\n",
              "    <tr>\n",
              "      <th>Odometer</th>\n",
              "      <td>-0.773104</td>\n",
              "      <td>-0.537544</td>\n",
              "      <td>1.000000</td>\n",
              "      <td>-0.582648</td>\n",
              "      <td>-0.577385</td>\n",
              "    </tr>\n",
              "    <tr>\n",
              "      <th>mmr</th>\n",
              "      <td>0.588605</td>\n",
              "      <td>0.481460</td>\n",
              "      <td>-0.582648</td>\n",
              "      <td>1.000000</td>\n",
              "      <td>0.983492</td>\n",
              "    </tr>\n",
              "    <tr>\n",
              "      <th>Price</th>\n",
              "      <td>0.578918</td>\n",
              "      <td>0.535990</td>\n",
              "      <td>-0.577385</td>\n",
              "      <td>0.983492</td>\n",
              "      <td>1.000000</td>\n",
              "    </tr>\n",
              "  </tbody>\n",
              "</table>\n",
              "</div>"
            ],
            "text/plain": [
              "               Year  Condition  Odometer       mmr     Price\n",
              "Year       1.000000   0.548307 -0.773104  0.588605  0.578918\n",
              "Condition  0.548307   1.000000 -0.537544  0.481460  0.535990\n",
              "Odometer  -0.773104  -0.537544  1.000000 -0.582648 -0.577385\n",
              "mmr        0.588605   0.481460 -0.582648  1.000000  0.983492\n",
              "Price      0.578918   0.535990 -0.577385  0.983492  1.000000"
            ]
          },
          "metadata": {},
          "execution_count": 13
        }
      ]
    },
    {
      "cell_type": "markdown",
      "metadata": {
        "id": "Di1vLL-xZvi2"
      },
      "source": [
        "## from above correlation we saw the feature mmr is highly correlated with the price but mmr feature is prime component to predict auction car prices.\n",
        "\n",
        "##Manheim Market Report (MMR)-\n",
        "*  It is the premier indicator of wholesale prices.\n",
        "*  It generates after every 8 months.\n",
        "\n",
        "\n"
      ]
    },
    {
      "cell_type": "code",
      "metadata": {
        "colab": {
          "base_uri": "https://localhost:8080/",
          "height": 265
        },
        "id": "d5KlzKb8axCM",
        "outputId": "03b53180-699d-47ec-fe4d-b6bde3624a03"
      },
      "source": [
        "import matplotlib.pyplot as plt\n",
        "plt.scatter(df['mmr'],df['Price'])\n",
        "plt.show()"
      ],
      "execution_count": null,
      "outputs": [
        {
          "output_type": "display_data",
          "data": {
            "image/png": "[encoded data removed]",
            "text/plain": [
              "<Figure size 432x288 with 1 Axes>"
            ]
          },
          "metadata": {
            "needs_background": "light"
          }
        }
      ]
    },
    {
      "cell_type": "code",
      "metadata": {
        "id": "3uSZsRGmC99p",
        "colab": {
          "base_uri": "https://localhost:8080/"
        },
        "outputId": "3cafc316-b707-4a1e-c5a2-8dd57255af9b"
      },
      "source": [
        "df.shape"
      ],
      "execution_count": null,
      "outputs": [
        {
          "output_type": "execute_result",
          "data": {
            "text/plain": [
              "(472336, 15)"
            ]
          },
          "metadata": {},
          "execution_count": 15
        }
      ]
    },
    {
      "cell_type": "code",
      "metadata": {
        "colab": {
          "base_uri": "https://localhost:8080/",
          "height": 143
        },
        "id": "Y1OUjI4XfHDr",
        "outputId": "90d27c14-71c4-4ed9-e792-8a85ed66dd95"
      },
      "source": [
        "pd.DataFrame([df.isnull().mean(),df.dtypes,df.nunique()],index=['null_per','dtypes','nuique'])\\\n",
        "    .sort_values(by=['null_per'],axis=1,ascending=False)"
      ],
      "execution_count": null,
      "outputs": [
        {
          "output_type": "execute_result",
          "data": {
            "text/html": [
              "<div>\n",
              "<style scoped>\n",
              "    .dataframe tbody tr th:only-of-type {\n",
              "        vertical-align: middle;\n",
              "    }\n",
              "\n",
              "    .dataframe tbody tr th {\n",
              "        vertical-align: top;\n",
              "    }\n",
              "\n",
              "    .dataframe thead th {\n",
              "        text-align: right;\n",
              "    }\n",
              "</style>\n",
              "<table border=\"1\" class=\"dataframe\">\n",
              "  <thead>\n",
              "    <tr style=\"text-align: right;\">\n",
              "      <th></th>\n",
              "      <th>Year</th>\n",
              "      <th>Brand</th>\n",
              "      <th>Model</th>\n",
              "      <th>Version</th>\n",
              "      <th>Type</th>\n",
              "      <th>Transmission</th>\n",
              "      <th>Place</th>\n",
              "      <th>Condition</th>\n",
              "      <th>Odometer</th>\n",
              "      <th>Colour</th>\n",
              "      <th>Interior</th>\n",
              "      <th>Seller</th>\n",
              "      <th>mmr</th>\n",
              "      <th>Price</th>\n",
              "      <th>SaleDate</th>\n",
              "    </tr>\n",
              "  </thead>\n",
              "  <tbody>\n",
              "    <tr>\n",
              "      <th>null_per</th>\n",
              "      <td>0</td>\n",
              "      <td>0</td>\n",
              "      <td>0</td>\n",
              "      <td>0</td>\n",
              "      <td>0</td>\n",
              "      <td>0</td>\n",
              "      <td>0</td>\n",
              "      <td>0</td>\n",
              "      <td>0</td>\n",
              "      <td>0</td>\n",
              "      <td>0</td>\n",
              "      <td>0</td>\n",
              "      <td>0</td>\n",
              "      <td>0</td>\n",
              "      <td>0</td>\n",
              "    </tr>\n",
              "    <tr>\n",
              "      <th>dtypes</th>\n",
              "      <td>int64</td>\n",
              "      <td>object</td>\n",
              "      <td>object</td>\n",
              "      <td>object</td>\n",
              "      <td>object</td>\n",
              "      <td>object</td>\n",
              "      <td>object</td>\n",
              "      <td>float64</td>\n",
              "      <td>float64</td>\n",
              "      <td>object</td>\n",
              "      <td>object</td>\n",
              "      <td>object</td>\n",
              "      <td>int64</td>\n",
              "      <td>int64</td>\n",
              "      <td>object</td>\n",
              "    </tr>\n",
              "    <tr>\n",
              "      <th>nuique</th>\n",
              "      <td>26</td>\n",
              "      <td>53</td>\n",
              "      <td>768</td>\n",
              "      <td>1507</td>\n",
              "      <td>85</td>\n",
              "      <td>2</td>\n",
              "      <td>34</td>\n",
              "      <td>41</td>\n",
              "      <td>160427</td>\n",
              "      <td>20</td>\n",
              "      <td>17</td>\n",
              "      <td>11927</td>\n",
              "      <td>1099</td>\n",
              "      <td>1806</td>\n",
              "      <td>3609</td>\n",
              "    </tr>\n",
              "  </tbody>\n",
              "</table>\n",
              "</div>"
            ],
            "text/plain": [
              "           Year   Brand   Model Version  ...  Seller    mmr  Price SaleDate\n",
              "null_per      0       0       0       0  ...       0      0      0        0\n",
              "dtypes    int64  object  object  object  ...  object  int64  int64   object\n",
              "nuique       26      53     768    1507  ...   11927   1099   1806     3609\n",
              "\n",
              "[3 rows x 15 columns]"
            ]
          },
          "metadata": {},
          "execution_count": 16
        }
      ]
    },
    {
      "cell_type": "markdown",
      "metadata": {
        "id": "pZeMeMr5o3fL"
      },
      "source": [
        "# extract selling date info"
      ]
    },
    {
      "cell_type": "code",
      "metadata": {
        "id": "Fnx8AkE-fl2x"
      },
      "source": [
        "import datetime\n",
        "df['sale_datetime'] = pd.to_datetime(df['SaleDate'],utc=True)\n",
        "df['SaleDate'] = pd.DatetimeIndex(df['sale_datetime']).year"
      ],
      "execution_count": null,
      "outputs": []
    },
    {
      "cell_type": "markdown",
      "metadata": {
        "id": "1z2PoGP4o_kQ"
      },
      "source": [
        "#Here we extracting the feature (age of car) by doing Feature Engineering from saledate and year of manufacturing."
      ]
    },
    {
      "cell_type": "code",
      "metadata": {
        "id": "-7-kDgQQfliY"
      },
      "source": [
        "df[\"Car_age\"]=df['SaleDate']-df['Year']"
      ],
      "execution_count": null,
      "outputs": []
    },
    {
      "cell_type": "code",
      "metadata": {
        "colab": {
          "base_uri": "https://localhost:8080/"
        },
        "id": "08QFoAbOJoH6",
        "outputId": "955ca5bf-a04c-4a3e-946c-3c0e22872491"
      },
      "source": [
        "df['Car_age'].head()"
      ],
      "execution_count": null,
      "outputs": [
        {
          "output_type": "execute_result",
          "data": {
            "text/plain": [
              "0   -1\n",
              "1   -1\n",
              "2    1\n",
              "3    0\n",
              "4    0\n",
              "Name: Car_age, dtype: int64"
            ]
          },
          "metadata": {},
          "execution_count": 19
        }
      ]
    },
    {
      "cell_type": "markdown",
      "metadata": {
        "id": "NyUB2QZ7q9kW"
      },
      "source": [
        "# Here we got the car_age negative but car age will never negative so we taking only the positive ages of car below."
      ]
    },
    {
      "cell_type": "code",
      "metadata": {
        "id": "d0syW_osm6h-"
      },
      "source": [
        "df= df[df[\"Car_age\"]>=0] "
      ],
      "execution_count": null,
      "outputs": []
    },
    {
      "cell_type": "code",
      "metadata": {
        "id": "9_AuDSwvlcaz"
      },
      "source": [
        "df.drop('SaleDate',axis=1,inplace=True)"
      ],
      "execution_count": null,
      "outputs": []
    },
    {
      "cell_type": "code",
      "metadata": {
        "id": "-X4HnItwl5w1"
      },
      "source": [
        "df.drop('sale_datetime',axis=1,inplace=True)"
      ],
      "execution_count": null,
      "outputs": []
    },
    {
      "cell_type": "markdown",
      "metadata": {
        "id": "JhwxmJPVp4CI"
      },
      "source": [
        "#Here we are converting all the categorical columns into lower case so that data should be less redundant."
      ]
    },
    {
      "cell_type": "code",
      "metadata": {
        "id": "4TWiLL2yflJj"
      },
      "source": [
        "df['Type']=df['Type'].map(lambda x:str(x).lower())\n",
        "df['Brand']=df['Brand'].map(lambda x:str(x).lower())\n",
        "df['Model']=df['Model'].map(lambda x:str(x).lower())\n",
        "df['Version']=df['Version'].map(lambda x:str(x).lower())\n",
        "df['Place']=df['Place'].map(lambda x:str(x).lower())\n",
        "df['Colour']=df['Colour'].map(lambda x:str(x).lower())\n",
        "df['Interior']=df['Interior'].map(lambda x:str(x).lower())\n",
        "df['Seller']=df['Seller'].map(lambda x:str(x).lower())"
      ],
      "execution_count": null,
      "outputs": []
    },
    {
      "cell_type": "code",
      "metadata": {
        "colab": {
          "base_uri": "https://localhost:8080/"
        },
        "id": "FLpkhMtzhyN1",
        "outputId": "52b87b0f-9c6d-4ecb-b5b9-5d3469f9e56c"
      },
      "source": [
        "df.info()"
      ],
      "execution_count": null,
      "outputs": [
        {
          "output_type": "stream",
          "name": "stdout",
          "text": [
            "<class 'pandas.core.frame.DataFrame'>\n",
            "Int64Index: 472179 entries, 2 to 558810\n",
            "Data columns (total 15 columns):\n",
            " #   Column        Non-Null Count   Dtype  \n",
            "---  ------        --------------   -----  \n",
            " 0   Year          472179 non-null  int64  \n",
            " 1   Brand         472179 non-null  object \n",
            " 2   Model         472179 non-null  object \n",
            " 3   Version       472179 non-null  object \n",
            " 4   Type          472179 non-null  object \n",
            " 5   Transmission  472179 non-null  object \n",
            " 6   Place         472179 non-null  object \n",
            " 7   Condition     472179 non-null  float64\n",
            " 8   Odometer      472179 non-null  float64\n",
            " 9   Colour        472179 non-null  object \n",
            " 10  Interior      472179 non-null  object \n",
            " 11  Seller        472179 non-null  object \n",
            " 12  mmr           472179 non-null  int64  \n",
            " 13  Price         472179 non-null  int64  \n",
            " 14  Car_age       472179 non-null  int64  \n",
            "dtypes: float64(2), int64(4), object(9)\n",
            "memory usage: 57.6+ MB\n"
          ]
        }
      ]
    },
    {
      "cell_type": "markdown",
      "metadata": {
        "id": "t7UZEBEEUZiD"
      },
      "source": [
        "##Finding the outliers in the data. Here I plotted the outliers in Ododmeter and Price. Since the outliers of odometer and price show some influence in the data, I'm not deleting the outliers. Because the price of a vehicle and distance travelled will depends on many other factors."
      ]
    },
    {
      "cell_type": "code",
      "metadata": {
        "colab": {
          "base_uri": "https://localhost:8080/",
          "height": 297
        },
        "id": "y8_hNGXtUYnN",
        "outputId": "a682b1a4-2fa3-4f02-9a55-88fc8d12635b"
      },
      "source": [
        "import seaborn as sns\n",
        "sns.boxplot(x=df['Odometer'])"
      ],
      "execution_count": null,
      "outputs": [
        {
          "output_type": "execute_result",
          "data": {
            "text/plain": [
              "<matplotlib.axes._subplots.AxesSubplot at 0x7fcd96481c10>"
            ]
          },
          "metadata": {},
          "execution_count": 25
        },
        {
          "output_type": "display_data",
          "data": {
            "image/png": "[encoded data removed]",
            "text/plain": [
              "<Figure size 432x288 with 1 Axes>"
            ]
          },
          "metadata": {
            "needs_background": "light"
          }
        }
      ]
    },
    {
      "cell_type": "code",
      "metadata": {
        "colab": {
          "base_uri": "https://localhost:8080/",
          "height": 297
        },
        "id": "LXOnUiIMUqy-",
        "outputId": "ba79ecef-054c-48a7-fc00-478052d722d9"
      },
      "source": [
        "sns.boxplot(x=df['Price'])"
      ],
      "execution_count": null,
      "outputs": [
        {
          "output_type": "execute_result",
          "data": {
            "text/plain": [
              "<matplotlib.axes._subplots.AxesSubplot at 0x7fcd96406050>"
            ]
          },
          "metadata": {},
          "execution_count": 26
        },
        {
          "output_type": "display_data",
          "data": {
            "image/png": "[encoded data removed]",
            "text/plain": [
              "<Figure size 432x288 with 1 Axes>"
            ]
          },
          "metadata": {
            "needs_background": "light"
          }
        }
      ]
    },
    {
      "cell_type": "markdown",
      "metadata": {
        "id": "PWUeWn_2U96Y"
      },
      "source": [
        "#Plotted a graph of Number of vehicles vs Brands to identify the top brands in the auction. And Ford was most."
      ]
    },
    {
      "cell_type": "code",
      "metadata": {
        "colab": {
          "base_uri": "https://localhost:8080/",
          "height": 416
        },
        "id": "GyHIExZAVwE4",
        "outputId": "e8f72999-1abc-474c-afe6-1d71eae4462d"
      },
      "source": [
        "import matplotlib.pyplot as plt\n",
        "df.Brand.value_counts().nlargest(40).plot(kind='bar', figsize=(10,5))\n",
        "plt.title(\"Number of cars by Brands\")\n",
        "plt.ylabel('Number of cars')\n",
        "plt.xlabel('Brands');"
      ],
      "execution_count": null,
      "outputs": [
        {
          "output_type": "display_data",
          "data": {
            "image/png": "[encoded data removed]",
            "text/plain": [
              "<Figure size 720x360 with 1 Axes>"
            ]
          },
          "metadata": {
            "needs_background": "light"
          }
        }
      ]
    },
    {
      "cell_type": "code",
      "metadata": {
        "colab": {
          "base_uri": "https://localhost:8080/",
          "height": 299
        },
        "id": "5-R6ne2xdQ4g",
        "outputId": "dc5b6d09-54e9-4240-f235-579b1dfd743a"
      },
      "source": [
        "df['Condition'].plot.hist(bins=50,alpha=0.5,title='Distribution of condition')"
      ],
      "execution_count": null,
      "outputs": [
        {
          "output_type": "execute_result",
          "data": {
            "text/plain": [
              "<matplotlib.axes._subplots.AxesSubplot at 0x7fcd96337cd0>"
            ]
          },
          "metadata": {},
          "execution_count": 28
        },
        {
          "output_type": "display_data",
          "data": {
            "image/png": "[encoded data removed]",
            "text/plain": [
              "<Figure size 432x288 with 1 Axes>"
            ]
          },
          "metadata": {
            "needs_background": "light"
          }
        }
      ]
    },
    {
      "cell_type": "code",
      "metadata": {
        "colab": {
          "base_uri": "https://localhost:8080/",
          "height": 301
        },
        "id": "UhFeBSa5mYRx",
        "outputId": "54170b67-8ce1-4603-d86d-90bfa344c564"
      },
      "source": [
        "df['Car_age'].value_counts().plot.bar(title='Distribution of used_year')"
      ],
      "execution_count": null,
      "outputs": [
        {
          "output_type": "execute_result",
          "data": {
            "text/plain": [
              "<matplotlib.axes._subplots.AxesSubplot at 0x7fcd96155490>"
            ]
          },
          "metadata": {},
          "execution_count": 29
        },
        {
          "output_type": "display_data",
          "data": {
            "image/png": "[encoded data removed]",
            "text/plain": [
              "<Figure size 432x288 with 1 Axes>"
            ]
          },
          "metadata": {
            "needs_background": "light"
          }
        }
      ]
    },
    {
      "cell_type": "markdown",
      "metadata": {
        "id": "aqoWozDenvPR"
      },
      "source": [
        "## So deals from the dataset indicate that people are more inclined to using their cars in 4 years, driving within 200,000 kilometers and sell cars with good or bad conditions."
      ]
    },
    {
      "cell_type": "markdown",
      "metadata": {
        "id": "4I6tNh46XJha"
      },
      "source": [
        "## Here we are showing distribution of target variable"
      ]
    },
    {
      "cell_type": "code",
      "metadata": {
        "colab": {
          "base_uri": "https://localhost:8080/",
          "height": 467
        },
        "id": "bwtu5q0HYqK7",
        "outputId": "a3a83e18-63e9-4b3f-d6d5-daf8fa20418f"
      },
      "source": [
        "plt.figure(figsize=(20,7))\n",
        "sns.barplot(x='Car_age',y='Price',data=df)\n",
        "plt.title('Models by Selling Price')\n",
        "plt.xlabel('Year')\n",
        "plt.ylabel('Selling Price')"
      ],
      "execution_count": null,
      "outputs": [
        {
          "output_type": "execute_result",
          "data": {
            "text/plain": [
              "Text(0, 0.5, 'Selling Price')"
            ]
          },
          "metadata": {},
          "execution_count": 30
        },
        {
          "output_type": "display_data",
          "data": {
            "image/png": "[encoded data removed]",
            "text/plain": [
              "<Figure size 1440x504 with 1 Axes>"
            ]
          },
          "metadata": {
            "needs_background": "light"
          }
        }
      ]
    },
    {
      "cell_type": "code",
      "metadata": {
        "colab": {
          "base_uri": "https://localhost:8080/",
          "height": 447
        },
        "id": "4JbziOQEXv6C",
        "outputId": "e20b81a5-2f1a-4fef-edda-e84465bd7b05"
      },
      "source": [
        "plt.figure(figsize=(19,6))\n",
        "\n",
        "df['Year'].value_counts().plot(kind='bar')\n",
        "\n",
        "plt.title('Number of Cars Sold by year of Brands',fontsize=20)\n",
        "plt.xlabel('Year',fontsize=15)\n",
        "plt.ylabel('Total Cars',fontsize=15)"
      ],
      "execution_count": null,
      "outputs": [
        {
          "output_type": "execute_result",
          "data": {
            "text/plain": [
              "Text(0, 0.5, 'Total Cars')"
            ]
          },
          "metadata": {},
          "execution_count": 31
        },
        {
          "output_type": "display_data",
          "data": {
            "image/png": "[encoded data removed]",
            "text/plain": [
              "<Figure size 1368x432 with 1 Axes>"
            ]
          },
          "metadata": {
            "needs_background": "light"
          }
        }
      ]
    },
    {
      "cell_type": "code",
      "metadata": {
        "id": "x76JUvA8OhJP"
      },
      "source": [
        "df.drop('Year',axis=1,inplace=True)"
      ],
      "execution_count": null,
      "outputs": []
    },
    {
      "cell_type": "markdown",
      "metadata": {
        "id": "3gGrzkDpYz_Z"
      },
      "source": [
        "### we performed EDA on the Car Auction dataset to understand the factors influencing the Auction of used car's. It was a large dataset containing about 558k rows. we have deleted the null values and irrelevent columns to get better understandings of the data.\n",
        "\n",
        "In this analysis, we plotted some graphs to show the distribution of selling price according to different factors like Odometer, Year of the model and the Brands of the vehicle.\n",
        "\n",
        "From this analysis, we could understand that, the factors like Odometer(the distance travelled by the vehicle), Brands of vehicle and Year of the model are mainly influencing the auction of used cars. Cars with lesser odometer are getting good selling price in the auction."
      ]
    },
    {
      "cell_type": "code",
      "metadata": {
        "id": "rf8FfR7jDcSC"
      },
      "source": [
        "df.drop('Seller',axis=1,inplace=True)"
      ],
      "execution_count": null,
      "outputs": []
    },
    {
      "cell_type": "code",
      "metadata": {
        "id": "siD-SqV_De6G",
        "colab": {
          "base_uri": "https://localhost:8080/",
          "height": 436
        },
        "outputId": "5df53aed-743c-4e20-f2e3-77f3c4dfedc6"
      },
      "source": [
        "heatmap_col=['Price','Condition','Odometer','mmr','Car_age']\n",
        "sns.set(rc={'figure.figsize':(7,7)})\n",
        "sns.heatmap(df[heatmap_col].corr());"
      ],
      "execution_count": null,
      "outputs": [
        {
          "output_type": "display_data",
          "data": {
            "image/png": "[encoded data removed]",
            "text/plain": [
              "<Figure size 504x504 with 2 Axes>"
            ]
          },
          "metadata": {}
        }
      ]
    },
    {
      "cell_type": "code",
      "metadata": {
        "id": "FCeVp2fWEU78",
        "colab": {
          "base_uri": "https://localhost:8080/"
        },
        "outputId": "30900728-804c-49e8-b63c-7b7d7d9ec0e8"
      },
      "source": [
        "df.nunique()"
      ],
      "execution_count": null,
      "outputs": [
        {
          "output_type": "execute_result",
          "data": {
            "text/plain": [
              "Brand               53\n",
              "Model              764\n",
              "Version           1488\n",
              "Type                45\n",
              "Transmission         2\n",
              "Place               34\n",
              "Condition           41\n",
              "Odometer        160418\n",
              "Colour              20\n",
              "Interior            17\n",
              "mmr               1099\n",
              "Price             1806\n",
              "Car_age             26\n",
              "dtype: int64"
            ]
          },
          "metadata": {},
          "execution_count": 35
        }
      ]
    },
    {
      "cell_type": "markdown",
      "metadata": {
        "id": "0rBUYgL6tb47"
      },
      "source": [
        "# as we see there are lot of categorical columns in the data which is not important as we are doing regression and which increases the column size after doing one hot encoding so just selected the most corelated features for prediction"
      ]
    },
    {
      "cell_type": "code",
      "metadata": {
        "id": "mwuxYFEuDDY4"
      },
      "source": [
        "X=df.drop(['Price','Brand','Model','Version','Interior','Type','Place','Colour'],axis=1)\n",
        "Y=df['Price']"
      ],
      "execution_count": null,
      "outputs": []
    },
    {
      "cell_type": "code",
      "metadata": {
        "id": "GQRm3PjmDUIF"
      },
      "source": [
        "X=pd.get_dummies(X,drop_first=True)"
      ],
      "execution_count": null,
      "outputs": []
    },
    {
      "cell_type": "code",
      "metadata": {
        "colab": {
          "base_uri": "https://localhost:8080/"
        },
        "id": "jc6dRxAsuv7L",
        "outputId": "d6755d6d-f6ce-4cb3-cf8a-0bf662010445"
      },
      "source": [
        "X.columns"
      ],
      "execution_count": null,
      "outputs": [
        {
          "output_type": "execute_result",
          "data": {
            "text/plain": [
              "Index(['Condition', 'Odometer', 'mmr', 'Car_age', 'Transmission_manual'], dtype='object')"
            ]
          },
          "metadata": {},
          "execution_count": 38
        }
      ]
    },
    {
      "cell_type": "code",
      "metadata": {
        "colab": {
          "base_uri": "https://localhost:8080/"
        },
        "id": "BsDEiP6_Eu6Z",
        "outputId": "5e5f5231-94ab-4790-a5d8-082e3e957d53"
      },
      "source": [
        "from sklearn.preprocessing import MinMaxScaler\n",
        "scaler = MinMaxScaler()\n",
        "# transform data\n",
        "trans_X = scaler.fit_transform(X)\n",
        "print(trans_X)"
      ],
      "execution_count": null,
      "outputs": [
        {
          "output_type": "stream",
          "name": "stdout",
          "text": [
            "[[0.875      0.00133    0.17516142 0.04       0.        ]\n",
            " [0.775      0.01428103 0.15098228 0.         0.        ]\n",
            " [0.825      0.00264001 0.3625498  0.         0.        ]\n",
            " ...\n",
            " [0.95       0.0505601  0.16362138 0.12       0.        ]\n",
            " [0.7        0.01665703 0.08284105 0.         0.        ]\n",
            " [0.6        0.01500703 0.16252232 0.04       0.        ]]\n"
          ]
        }
      ]
    },
    {
      "cell_type": "code",
      "metadata": {
        "id": "DWdkeAA_IbP6"
      },
      "source": [
        "X=pd.DataFrame(trans_X)"
      ],
      "execution_count": null,
      "outputs": []
    },
    {
      "cell_type": "code",
      "metadata": {
        "colab": {
          "base_uri": "https://localhost:8080/"
        },
        "id": "7MzJwlT_Dusk",
        "outputId": "989e114b-687a-43d1-c38b-d3e7489a1f42"
      },
      "source": [
        "X.shape,Y.shape"
      ],
      "execution_count": null,
      "outputs": [
        {
          "output_type": "execute_result",
          "data": {
            "text/plain": [
              "((472179, 5), (472179,))"
            ]
          },
          "metadata": {},
          "execution_count": 41
        }
      ]
    },
    {
      "cell_type": "code",
      "metadata": {
        "id": "LWvsj4QEwDhl"
      },
      "source": [
        "X=X.rename(columns={0:'Condition',1:'Odometer',2: 'mmr',3: 'Car_age',4: 'Transmission_manual'} )"
      ],
      "execution_count": null,
      "outputs": []
    },
    {
      "cell_type": "code",
      "metadata": {
        "colab": {
          "base_uri": "https://localhost:8080/",
          "height": 206
        },
        "id": "IavPPsXGD6pC",
        "outputId": "0a4b463c-bc77-40ac-c11d-ee0682f013a6"
      },
      "source": [
        "X.head()"
      ],
      "execution_count": null,
      "outputs": [
        {
          "output_type": "execute_result",
          "data": {
            "text/html": [
              "<div>\n",
              "<style scoped>\n",
              "    .dataframe tbody tr th:only-of-type {\n",
              "        vertical-align: middle;\n",
              "    }\n",
              "\n",
              "    .dataframe tbody tr th {\n",
              "        vertical-align: top;\n",
              "    }\n",
              "\n",
              "    .dataframe thead th {\n",
              "        text-align: right;\n",
              "    }\n",
              "</style>\n",
              "<table border=\"1\" class=\"dataframe\">\n",
              "  <thead>\n",
              "    <tr style=\"text-align: right;\">\n",
              "      <th></th>\n",
              "      <th>Condition</th>\n",
              "      <th>Odometer</th>\n",
              "      <th>mmr</th>\n",
              "      <th>Car_age</th>\n",
              "      <th>Transmission_manual</th>\n",
              "    </tr>\n",
              "  </thead>\n",
              "  <tbody>\n",
              "    <tr>\n",
              "      <th>0</th>\n",
              "      <td>0.875</td>\n",
              "      <td>0.001330</td>\n",
              "      <td>0.175161</td>\n",
              "      <td>0.04</td>\n",
              "      <td>0.0</td>\n",
              "    </tr>\n",
              "    <tr>\n",
              "      <th>1</th>\n",
              "      <td>0.775</td>\n",
              "      <td>0.014281</td>\n",
              "      <td>0.150982</td>\n",
              "      <td>0.00</td>\n",
              "      <td>0.0</td>\n",
              "    </tr>\n",
              "    <tr>\n",
              "      <th>2</th>\n",
              "      <td>0.825</td>\n",
              "      <td>0.002640</td>\n",
              "      <td>0.362550</td>\n",
              "      <td>0.00</td>\n",
              "      <td>0.0</td>\n",
              "    </tr>\n",
              "    <tr>\n",
              "      <th>3</th>\n",
              "      <td>0.600</td>\n",
              "      <td>0.014942</td>\n",
              "      <td>0.379036</td>\n",
              "      <td>0.00</td>\n",
              "      <td>0.0</td>\n",
              "    </tr>\n",
              "    <tr>\n",
              "      <th>4</th>\n",
              "      <td>0.250</td>\n",
              "      <td>0.028616</td>\n",
              "      <td>0.065256</td>\n",
              "      <td>0.00</td>\n",
              "      <td>0.0</td>\n",
              "    </tr>\n",
              "  </tbody>\n",
              "</table>\n",
              "</div>"
            ],
            "text/plain": [
              "   Condition  Odometer       mmr  Car_age  Transmission_manual\n",
              "0      0.875  0.001330  0.175161     0.04                  0.0\n",
              "1      0.775  0.014281  0.150982     0.00                  0.0\n",
              "2      0.825  0.002640  0.362550     0.00                  0.0\n",
              "3      0.600  0.014942  0.379036     0.00                  0.0\n",
              "4      0.250  0.028616  0.065256     0.00                  0.0"
            ]
          },
          "metadata": {},
          "execution_count": 43
        }
      ]
    },
    {
      "cell_type": "code",
      "metadata": {
        "colab": {
          "base_uri": "https://localhost:8080/",
          "height": 300
        },
        "id": "9z7lZzGSIpog",
        "outputId": "7fbd02ba-935b-454a-f4c9-4a7d56100e29"
      },
      "source": [
        "X.describe()"
      ],
      "execution_count": null,
      "outputs": [
        {
          "output_type": "execute_result",
          "data": {
            "text/html": [
              "<div>\n",
              "<style scoped>\n",
              "    .dataframe tbody tr th:only-of-type {\n",
              "        vertical-align: middle;\n",
              "    }\n",
              "\n",
              "    .dataframe tbody tr th {\n",
              "        vertical-align: top;\n",
              "    }\n",
              "\n",
              "    .dataframe thead th {\n",
              "        text-align: right;\n",
              "    }\n",
              "</style>\n",
              "<table border=\"1\" class=\"dataframe\">\n",
              "  <thead>\n",
              "    <tr style=\"text-align: right;\">\n",
              "      <th></th>\n",
              "      <th>Condition</th>\n",
              "      <th>Odometer</th>\n",
              "      <th>mmr</th>\n",
              "      <th>Car_age</th>\n",
              "      <th>Transmission_manual</th>\n",
              "    </tr>\n",
              "  </thead>\n",
              "  <tbody>\n",
              "    <tr>\n",
              "      <th>count</th>\n",
              "      <td>472179.000000</td>\n",
              "      <td>472179.000000</td>\n",
              "      <td>472179.000000</td>\n",
              "      <td>472179.000000</td>\n",
              "      <td>472179.000000</td>\n",
              "    </tr>\n",
              "    <tr>\n",
              "      <th>mean</th>\n",
              "      <td>0.606585</td>\n",
              "      <td>0.066718</td>\n",
              "      <td>0.075875</td>\n",
              "      <td>0.188519</td>\n",
              "      <td>0.034650</td>\n",
              "    </tr>\n",
              "    <tr>\n",
              "      <th>std</th>\n",
              "      <td>0.235879</td>\n",
              "      <td>0.051938</td>\n",
              "      <td>0.052356</td>\n",
              "      <td>0.152752</td>\n",
              "      <td>0.182892</td>\n",
              "    </tr>\n",
              "    <tr>\n",
              "      <th>min</th>\n",
              "      <td>0.000000</td>\n",
              "      <td>0.000000</td>\n",
              "      <td>0.000000</td>\n",
              "      <td>0.000000</td>\n",
              "      <td>0.000000</td>\n",
              "    </tr>\n",
              "    <tr>\n",
              "      <th>25%</th>\n",
              "      <td>0.425000</td>\n",
              "      <td>0.028156</td>\n",
              "      <td>0.040665</td>\n",
              "      <td>0.080000</td>\n",
              "      <td>0.000000</td>\n",
              "    </tr>\n",
              "    <tr>\n",
              "      <th>50%</th>\n",
              "      <td>0.650000</td>\n",
              "      <td>0.051102</td>\n",
              "      <td>0.067454</td>\n",
              "      <td>0.120000</td>\n",
              "      <td>0.000000</td>\n",
              "    </tr>\n",
              "    <tr>\n",
              "      <th>75%</th>\n",
              "      <td>0.800000</td>\n",
              "      <td>0.096606</td>\n",
              "      <td>0.100426</td>\n",
              "      <td>0.280000</td>\n",
              "      <td>0.000000</td>\n",
              "    </tr>\n",
              "    <tr>\n",
              "      <th>max</th>\n",
              "      <td>1.000000</td>\n",
              "      <td>1.000000</td>\n",
              "      <td>1.000000</td>\n",
              "      <td>1.000000</td>\n",
              "      <td>1.000000</td>\n",
              "    </tr>\n",
              "  </tbody>\n",
              "</table>\n",
              "</div>"
            ],
            "text/plain": [
              "           Condition       Odometer  ...        Car_age  Transmission_manual\n",
              "count  472179.000000  472179.000000  ...  472179.000000        472179.000000\n",
              "mean        0.606585       0.066718  ...       0.188519             0.034650\n",
              "std         0.235879       0.051938  ...       0.152752             0.182892\n",
              "min         0.000000       0.000000  ...       0.000000             0.000000\n",
              "25%         0.425000       0.028156  ...       0.080000             0.000000\n",
              "50%         0.650000       0.051102  ...       0.120000             0.000000\n",
              "75%         0.800000       0.096606  ...       0.280000             0.000000\n",
              "max         1.000000       1.000000  ...       1.000000             1.000000\n",
              "\n",
              "[8 rows x 5 columns]"
            ]
          },
          "metadata": {},
          "execution_count": 44
        }
      ]
    },
    {
      "cell_type": "code",
      "metadata": {
        "id": "n77EmVTySaxa"
      },
      "source": [
        "from sklearn.model_selection import train_test_split"
      ],
      "execution_count": null,
      "outputs": []
    },
    {
      "cell_type": "code",
      "metadata": {
        "colab": {
          "base_uri": "https://localhost:8080/"
        },
        "id": "Z6WQKuDXS8f4",
        "outputId": "6b1bce78-507c-408d-9bf5-1a46ce428ce3"
      },
      "source": [
        "X_train, X_test, Y_train, Y_test = train_test_split(X, Y, test_size=0.3, random_state=7)\n",
        "X_train.shape, X_test.shape, Y_train.shape, Y_test.shape"
      ],
      "execution_count": null,
      "outputs": [
        {
          "output_type": "execute_result",
          "data": {
            "text/plain": [
              "((330525, 5), (141654, 5), (330525,), (141654,))"
            ]
          },
          "metadata": {},
          "execution_count": 46
        }
      ]
    },
    {
      "cell_type": "code",
      "metadata": {
        "id": "xRbgbm2TTGV9"
      },
      "source": [
        "#from sklearn.decomposition import PCA\n",
        "# Make an instance of the Model\n",
        "# Principle Component Analysis\n",
        "#pca = PCA(10) # Give the number of features to PCA\n",
        "#pca.fit(X_train)\n",
        "#X_train = pca.transform(X_train)\n",
        "#X_test = pca.transform(X_test)\n",
        "#print(X_train.shape)\n",
        "#X_train[:5]"
      ],
      "execution_count": null,
      "outputs": []
    },
    {
      "cell_type": "code",
      "metadata": {
        "id": "P3Fuxlr7TjHj"
      },
      "source": [
        "from sklearn.ensemble import RandomForestRegressor"
      ],
      "execution_count": null,
      "outputs": []
    },
    {
      "cell_type": "code",
      "metadata": {
        "id": "C8VEB1AvT249"
      },
      "source": [
        "model=RandomForestRegressor(random_state=7).fit(X_train,Y_train)\n",
        "ypred=model.predict(X_test)"
      ],
      "execution_count": null,
      "outputs": []
    },
    {
      "cell_type": "code",
      "metadata": {
        "colab": {
          "base_uri": "https://localhost:8080/"
        },
        "id": "egwbJN8Sm4Lx",
        "outputId": "76d58f82-caac-4983-8084-a2d483e89bb0"
      },
      "source": [
        "from sklearn import metrics\n",
        "import numpy as np\n",
        "# Print result of MAE\n",
        "print(metrics.mean_absolute_error(Y_test, ypred))\n",
        "#Print result of MSE\n",
        "print(metrics.mean_squared_error(Y_test, ypred))\n",
        "#Print result of RMSE\n",
        "print(np.sqrt(metrics.mean_squared_error (Y_test, ypred)))"
      ],
      "execution_count": null,
      "outputs": [
        {
          "output_type": "stream",
          "name": "stdout",
          "text": [
            "1006.5978341559281\n",
            "2413184.325012969\n",
            "1553.4427330973513\n"
          ]
        }
      ]
    },
    {
      "cell_type": "code",
      "metadata": {
        "id": "qabn1FL7d2ue"
      },
      "source": [
        "from sklearn.metrics import r2_score,accuracy_score"
      ],
      "execution_count": null,
      "outputs": []
    },
    {
      "cell_type": "code",
      "metadata": {
        "id": "XW1wWkPSnjTG"
      },
      "source": [
        "a = metrics.r2_score(Y_test, ypred)"
      ],
      "execution_count": null,
      "outputs": []
    },
    {
      "cell_type": "code",
      "metadata": {
        "id": "6FDGObNuocfp"
      },
      "source": [
        "from sklearn.linear_model import LinearRegression\n",
        "model1=LinearRegression().fit(X_train,Y_train)"
      ],
      "execution_count": null,
      "outputs": []
    },
    {
      "cell_type": "code",
      "metadata": {
        "id": "zzp4_-XEonDL"
      },
      "source": [
        "ypred1=model1.predict(X_test)"
      ],
      "execution_count": null,
      "outputs": []
    },
    {
      "cell_type": "code",
      "metadata": {
        "colab": {
          "base_uri": "https://localhost:8080/"
        },
        "id": "1ufE4Ag3tg38",
        "outputId": "0b052bef-2cab-406d-a287-49aad84c50c2"
      },
      "source": [
        "# Print result of MAE\n",
        "print(metrics.mean_absolute_error(Y_test, ypred1))\n",
        "#Print result of MSE\n",
        "print(metrics.mean_squared_error(Y_test, ypred1))\n",
        "#Print result of RMSE\n",
        "print(np.sqrt(metrics.mean_squared_error (Y_test, ypred1)))"
      ],
      "execution_count": null,
      "outputs": [
        {
          "output_type": "stream",
          "name": "stdout",
          "text": [
            "978.5136930022451\n",
            "2325130.4051458305\n",
            "1524.83782912998\n"
          ]
        }
      ]
    },
    {
      "cell_type": "code",
      "metadata": {
        "id": "-v6YSyLztr41"
      },
      "source": [
        "b = metrics.r2_score(Y_test, ypred1)"
      ],
      "execution_count": null,
      "outputs": []
    },
    {
      "cell_type": "code",
      "metadata": {
        "id": "_Apj99sNLpdN"
      },
      "source": [
        "#Train the model\n",
        "from sklearn.ensemble import GradientBoostingRegressor\n",
        "GBR = GradientBoostingRegressor()"
      ],
      "execution_count": null,
      "outputs": []
    },
    {
      "cell_type": "code",
      "metadata": {
        "id": "D0thizYCyE3D"
      },
      "source": [
        "model2=GBR.fit(X_train,Y_train)"
      ],
      "execution_count": null,
      "outputs": []
    },
    {
      "cell_type": "code",
      "metadata": {
        "id": "zVdBTi6EyVCQ"
      },
      "source": [
        "ypred=model2.predict(X_test)"
      ],
      "execution_count": null,
      "outputs": []
    },
    {
      "cell_type": "code",
      "metadata": {
        "colab": {
          "base_uri": "https://localhost:8080/"
        },
        "id": "1TCM_PDTyhNE",
        "outputId": "d5e358ab-575a-4483-b7b1-e9478052fadb"
      },
      "source": [
        "# Print result of MAE\n",
        "print(metrics.mean_absolute_error(Y_test, ypred))\n",
        "#Print result of MSE\n",
        "print(metrics.mean_squared_error(Y_test, ypred))\n",
        "#Print result of RMSE\n",
        "print(np.sqrt(metrics.mean_squared_error (Y_test, ypred)))"
      ],
      "execution_count": null,
      "outputs": [
        {
          "output_type": "stream",
          "name": "stdout",
          "text": [
            "940.6986744728902\n",
            "2131391.1976728197\n",
            "1459.9284906024745\n"
          ]
        }
      ]
    },
    {
      "cell_type": "code",
      "metadata": {
        "id": "btx81e3syoxG"
      },
      "source": [
        "c = metrics.r2_score(Y_test, ypred)"
      ],
      "execution_count": null,
      "outputs": []
    },
    {
      "cell_type": "code",
      "metadata": {
        "id": "gtXtQsBrytEs"
      },
      "source": [
        "#from sklearn.svm import SVR"
      ],
      "execution_count": null,
      "outputs": []
    },
    {
      "cell_type": "code",
      "metadata": {
        "id": "8VAoI59kzdqp"
      },
      "source": [
        "#svr=SVR()"
      ],
      "execution_count": null,
      "outputs": []
    },
    {
      "cell_type": "code",
      "metadata": {
        "id": "etcJEbcfzn0E"
      },
      "source": [
        "#ypred=model.predict(X_test)"
      ],
      "execution_count": null,
      "outputs": []
    },
    {
      "cell_type": "code",
      "metadata": {
        "id": "UVUxck3Cz5ZE"
      },
      "source": [
        "# Print result of MAE\n",
        "#print(metrics.mean_absolute_error(Y_test, ypred))\n",
        "\n",
        "#Print result of MSE\n",
        "\n",
        "#print(metrics.mean_squared_error(Y_test, ypred))\n",
        "\n",
        "#Print result of RMSE\n",
        "\n",
        "#print(np.sqrt(metrics.mean_squared_error (Y_test, ypred)))"
      ],
      "execution_count": null,
      "outputs": []
    },
    {
      "cell_type": "code",
      "metadata": {
        "id": "QXBC464oz67J"
      },
      "source": [
        "#metrics.r2_score(Y_test, ypred)"
      ],
      "execution_count": null,
      "outputs": []
    },
    {
      "cell_type": "code",
      "metadata": {
        "id": "Dzhho_Dc1ZFX"
      },
      "source": [
        "from sklearn.ensemble import ExtraTreesRegressor"
      ],
      "execution_count": null,
      "outputs": []
    },
    {
      "cell_type": "code",
      "metadata": {
        "id": "0b7KQjdB1Y6a"
      },
      "source": [
        "model3=ExtraTreesRegressor().fit(X_train,Y_train)"
      ],
      "execution_count": null,
      "outputs": []
    },
    {
      "cell_type": "code",
      "metadata": {
        "id": "tWaMjNfd1e29"
      },
      "source": [
        "y_pred=model3.predict(X_test)"
      ],
      "execution_count": null,
      "outputs": []
    },
    {
      "cell_type": "code",
      "metadata": {
        "id": "c51ANUff1r2z",
        "colab": {
          "base_uri": "https://localhost:8080/"
        },
        "outputId": "b8a74fc4-8352-49e0-def6-140a86761a3f"
      },
      "source": [
        "# Print result of MAE\n",
        "print(metrics.mean_absolute_error(Y_test, ypred))\n",
        "#Print result of MSE\n",
        "print(metrics.mean_squared_error(Y_test, ypred))\n",
        "#Print result of RMSE\n",
        "print(np.sqrt(metrics.mean_squared_error (Y_test, ypred)))"
      ],
      "execution_count": null,
      "outputs": [
        {
          "output_type": "stream",
          "name": "stdout",
          "text": [
            "940.6986744728902\n",
            "2131391.1976728197\n",
            "1459.9284906024745\n"
          ]
        }
      ]
    },
    {
      "cell_type": "code",
      "metadata": {
        "id": "VXz1zx5t1w0y",
        "colab": {
          "base_uri": "https://localhost:8080/"
        },
        "outputId": "b92299ee-5990-4a52-9fa1-9804004e6581"
      },
      "source": [
        " d = metrics.r2_score(Y_test, ypred)"
      ],
      "execution_count": null,
      "outputs": [
        {
          "output_type": "execute_result",
          "data": {
            "text/plain": [
              "0.9771148463574312"
            ]
          },
          "metadata": {},
          "execution_count": 88
        }
      ]
    },
    {
      "cell_type": "code",
      "metadata": {
        "colab": {
          "base_uri": "https://localhost:8080/",
          "height": 175
        },
        "id": "gx40hw6M126m",
        "outputId": "90c24da4-c557-4f88-c3f4-9d1f074fc90e"
      },
      "source": [
        "test_score = pd.DataFrame({\n",
        "    'model': ['RandomForestRegressor', 'Linear Regression','Gradient Boosting Regressor', 'ExtraTreesRegressor'],\n",
        "    \n",
        "    'test_score': [a,b,c,d]\n",
        "    })\n",
        "test_score"
      ],
      "execution_count": null,
      "outputs": [
        {
          "output_type": "execute_result",
          "data": {
            "text/html": [
              "<div>\n",
              "<style scoped>\n",
              "    .dataframe tbody tr th:only-of-type {\n",
              "        vertical-align: middle;\n",
              "    }\n",
              "\n",
              "    .dataframe tbody tr th {\n",
              "        vertical-align: top;\n",
              "    }\n",
              "\n",
              "    .dataframe thead th {\n",
              "        text-align: right;\n",
              "    }\n",
              "</style>\n",
              "<table border=\"1\" class=\"dataframe\">\n",
              "  <thead>\n",
              "    <tr style=\"text-align: right;\">\n",
              "      <th></th>\n",
              "      <th>model</th>\n",
              "      <th>test_score</th>\n",
              "    </tr>\n",
              "  </thead>\n",
              "  <tbody>\n",
              "    <tr>\n",
              "      <th>0</th>\n",
              "      <td>RandomForestRegressor</td>\n",
              "      <td>0.974089</td>\n",
              "    </tr>\n",
              "    <tr>\n",
              "      <th>1</th>\n",
              "      <td>Linear Regression</td>\n",
              "      <td>0.975035</td>\n",
              "    </tr>\n",
              "    <tr>\n",
              "      <th>2</th>\n",
              "      <td>Gradient Boosting Regressor</td>\n",
              "      <td>0.977115</td>\n",
              "    </tr>\n",
              "    <tr>\n",
              "      <th>3</th>\n",
              "      <td>ExtraTreesRegressor</td>\n",
              "      <td>0.977115</td>\n",
              "    </tr>\n",
              "  </tbody>\n",
              "</table>\n",
              "</div>"
            ],
            "text/plain": [
              "                         model  test_score\n",
              "0        RandomForestRegressor    0.974089\n",
              "1            Linear Regression    0.975035\n",
              "2  Gradient Boosting Regressor    0.977115\n",
              "3          ExtraTreesRegressor    0.977115"
            ]
          },
          "metadata": {},
          "execution_count": 86
        }
      ]
    },
    {
      "cell_type": "code",
      "metadata": {
        "colab": {
          "base_uri": "https://localhost:8080/",
          "height": 175
        },
        "id": "bi-_dB0aM9PC",
        "outputId": "e27debfc-af53-49cb-8b6e-9b84932ee8f4"
      },
      "source": [
        "train_score = pd.DataFrame({\n",
        "    'model': ['RandomForestRegressor', 'Linear Regression','Gradient Boosting Regressor', 'ExtraTreesRegressor'],\n",
        "    'train_score': [model.score(X_train, Y_train), model1.score(X_train, Y_train),\n",
        "                model2.score(X_train, Y_train) , model3.score(X_train, Y_train)]\n",
        "})\n",
        "train_score"
      ],
      "execution_count": null,
      "outputs": [
        {
          "output_type": "execute_result",
          "data": {
            "text/html": [
              "<div>\n",
              "<style scoped>\n",
              "    .dataframe tbody tr th:only-of-type {\n",
              "        vertical-align: middle;\n",
              "    }\n",
              "\n",
              "    .dataframe tbody tr th {\n",
              "        vertical-align: top;\n",
              "    }\n",
              "\n",
              "    .dataframe thead th {\n",
              "        text-align: right;\n",
              "    }\n",
              "</style>\n",
              "<table border=\"1\" class=\"dataframe\">\n",
              "  <thead>\n",
              "    <tr style=\"text-align: right;\">\n",
              "      <th></th>\n",
              "      <th>model</th>\n",
              "      <th>train_score</th>\n",
              "    </tr>\n",
              "  </thead>\n",
              "  <tbody>\n",
              "    <tr>\n",
              "      <th>0</th>\n",
              "      <td>RandomForestRegressor</td>\n",
              "      <td>0.999995</td>\n",
              "    </tr>\n",
              "    <tr>\n",
              "      <th>1</th>\n",
              "      <td>Linear Regression</td>\n",
              "      <td>0.972399</td>\n",
              "    </tr>\n",
              "    <tr>\n",
              "      <th>2</th>\n",
              "      <td>Gradient Boosting Regressor</td>\n",
              "      <td>0.974914</td>\n",
              "    </tr>\n",
              "    <tr>\n",
              "      <th>3</th>\n",
              "      <td>ExtraTreesRegressor</td>\n",
              "      <td>0.999994</td>\n",
              "    </tr>\n",
              "  </tbody>\n",
              "</table>\n",
              "</div>"
            ],
            "text/plain": [
              "                         model  train_score\n",
              "0        RandomForestRegressor     0.999995\n",
              "1            Linear Regression     0.972399\n",
              "2  Gradient Boosting Regressor     0.974914\n",
              "3          ExtraTreesRegressor     0.999994"
            ]
          },
          "metadata": {},
          "execution_count": 87
        }
      ]
    },
    {
      "cell_type": "code",
      "metadata": {
        "id": "QAmY5WjsOKRw"
      },
      "source": [
        ""
      ],
      "execution_count": null,
      "outputs": []
    }
  ]
}